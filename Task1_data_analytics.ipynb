{
  "nbformat": 4,
  "nbformat_minor": 0,
  "metadata": {
    "colab": {
      "name": "Task1-data analytics.ipynb",
      "provenance": [],
      "collapsed_sections": [],
      "authorship_tag": "ABX9TyO5dkC9cV0NkkJqde4O3qd6",
      "include_colab_link": true
    },
    "kernelspec": {
      "name": "python3",
      "display_name": "Python 3"
    },
    "language_info": {
      "name": "python"
    }
  },
  "cells": [
    {
      "cell_type": "markdown",
      "metadata": {
        "id": "view-in-github",
        "colab_type": "text"
      },
      "source": [
        "<a href=\"https://colab.research.google.com/github/sakshee99/The-Sparks-Foundation/blob/main/Task1_data_analytics.ipynb\" target=\"_parent\"><img src=\"https://colab.research.google.com/assets/colab-badge.svg\" alt=\"Open In Colab\"/></a>"
      ]
    },
    {
      "cell_type": "markdown",
      "metadata": {
        "id": "ZgFfZWGV1BMk"
      },
      "source": [
        "Task 1- **Prediction using Supervised ML**<br>\n",
        "In this task , we have a dataset that conatins two variables( hours and scores). We will use **linear regression model** to train our algorithm. And then we will do the prediction of scores obtained based on number of hours studied.<br><br>\n",
        "I have used python.\n",
        "\n",
        "**Submitted by- Sakshee Singh**"
      ]
    },
    {
      "cell_type": "markdown",
      "metadata": {
        "id": "uLNrsMg511Fd"
      },
      "source": [
        "First, we are importing all the neccesary libraries."
      ]
    },
    {
      "cell_type": "code",
      "metadata": {
        "id": "yPF4MCzt0yPh"
      },
      "source": [
        "import pandas as pd\n",
        "import numpy as np\n",
        "import matplotlib.pyplot as plt\n",
        "%matplotlib inline"
      ],
      "execution_count": 1,
      "outputs": []
    },
    {
      "cell_type": "markdown",
      "metadata": {
        "id": "DicemdFN2FRJ"
      },
      "source": [
        "Next, we will read the csv file and store it as a dataframe.Also we will display first 5 rows of the dataframe."
      ]
    },
    {
      "cell_type": "code",
      "metadata": {
        "colab": {
          "base_uri": "https://localhost:8080/",
          "height": 219
        },
        "id": "pRY3nv-h2Rww",
        "outputId": "f3e71905-4935-46c1-b820-6c4bcd8ecd94"
      },
      "source": [
        "data= pd.read_csv(\"http://bit.ly/w-data\")\n",
        "print(\"Data imported..\")\n",
        "data.head()"
      ],
      "execution_count": 2,
      "outputs": [
        {
          "output_type": "stream",
          "text": [
            "Data imported..\n"
          ],
          "name": "stdout"
        },
        {
          "output_type": "execute_result",
          "data": {
            "text/html": [
              "<div>\n",
              "<style scoped>\n",
              "    .dataframe tbody tr th:only-of-type {\n",
              "        vertical-align: middle;\n",
              "    }\n",
              "\n",
              "    .dataframe tbody tr th {\n",
              "        vertical-align: top;\n",
              "    }\n",
              "\n",
              "    .dataframe thead th {\n",
              "        text-align: right;\n",
              "    }\n",
              "</style>\n",
              "<table border=\"1\" class=\"dataframe\">\n",
              "  <thead>\n",
              "    <tr style=\"text-align: right;\">\n",
              "      <th></th>\n",
              "      <th>Hours</th>\n",
              "      <th>Scores</th>\n",
              "    </tr>\n",
              "  </thead>\n",
              "  <tbody>\n",
              "    <tr>\n",
              "      <th>0</th>\n",
              "      <td>2.5</td>\n",
              "      <td>21</td>\n",
              "    </tr>\n",
              "    <tr>\n",
              "      <th>1</th>\n",
              "      <td>5.1</td>\n",
              "      <td>47</td>\n",
              "    </tr>\n",
              "    <tr>\n",
              "      <th>2</th>\n",
              "      <td>3.2</td>\n",
              "      <td>27</td>\n",
              "    </tr>\n",
              "    <tr>\n",
              "      <th>3</th>\n",
              "      <td>8.5</td>\n",
              "      <td>75</td>\n",
              "    </tr>\n",
              "    <tr>\n",
              "      <th>4</th>\n",
              "      <td>3.5</td>\n",
              "      <td>30</td>\n",
              "    </tr>\n",
              "  </tbody>\n",
              "</table>\n",
              "</div>"
            ],
            "text/plain": [
              "   Hours  Scores\n",
              "0    2.5      21\n",
              "1    5.1      47\n",
              "2    3.2      27\n",
              "3    8.5      75\n",
              "4    3.5      30"
            ]
          },
          "metadata": {
            "tags": []
          },
          "execution_count": 2
        }
      ]
    },
    {
      "cell_type": "code",
      "metadata": {
        "colab": {
          "base_uri": "https://localhost:8080/"
        },
        "id": "iBot3_-uSNaN",
        "collapsed": true,
        "outputId": "2a60979a-7c6f-46eb-f815-5be17f2b9d0a"
      },
      "source": [
        "data.info()\n"
      ],
      "execution_count": 3,
      "outputs": [
        {
          "output_type": "stream",
          "text": [
            "<class 'pandas.core.frame.DataFrame'>\n",
            "RangeIndex: 25 entries, 0 to 24\n",
            "Data columns (total 2 columns):\n",
            " #   Column  Non-Null Count  Dtype  \n",
            "---  ------  --------------  -----  \n",
            " 0   Hours   25 non-null     float64\n",
            " 1   Scores  25 non-null     int64  \n",
            "dtypes: float64(1), int64(1)\n",
            "memory usage: 528.0 bytes\n"
          ],
          "name": "stdout"
        }
      ]
    },
    {
      "cell_type": "markdown",
      "metadata": {
        "id": "G9R3GhGjSrT7"
      },
      "source": [
        "There are 25 rows and 2 columns( hours and scores) in the dataset."
      ]
    },
    {
      "cell_type": "code",
      "metadata": {
        "colab": {
          "base_uri": "https://localhost:8080/",
          "height": 294
        },
        "id": "ihddKiOySy9z",
        "collapsed": true,
        "outputId": "86f2be7b-fea8-4f9d-cb99-5be7a6c94130"
      },
      "source": [
        "data.describe()\n"
      ],
      "execution_count": 4,
      "outputs": [
        {
          "output_type": "execute_result",
          "data": {
            "text/html": [
              "<div>\n",
              "<style scoped>\n",
              "    .dataframe tbody tr th:only-of-type {\n",
              "        vertical-align: middle;\n",
              "    }\n",
              "\n",
              "    .dataframe tbody tr th {\n",
              "        vertical-align: top;\n",
              "    }\n",
              "\n",
              "    .dataframe thead th {\n",
              "        text-align: right;\n",
              "    }\n",
              "</style>\n",
              "<table border=\"1\" class=\"dataframe\">\n",
              "  <thead>\n",
              "    <tr style=\"text-align: right;\">\n",
              "      <th></th>\n",
              "      <th>Hours</th>\n",
              "      <th>Scores</th>\n",
              "    </tr>\n",
              "  </thead>\n",
              "  <tbody>\n",
              "    <tr>\n",
              "      <th>count</th>\n",
              "      <td>25.000000</td>\n",
              "      <td>25.000000</td>\n",
              "    </tr>\n",
              "    <tr>\n",
              "      <th>mean</th>\n",
              "      <td>5.012000</td>\n",
              "      <td>51.480000</td>\n",
              "    </tr>\n",
              "    <tr>\n",
              "      <th>std</th>\n",
              "      <td>2.525094</td>\n",
              "      <td>25.286887</td>\n",
              "    </tr>\n",
              "    <tr>\n",
              "      <th>min</th>\n",
              "      <td>1.100000</td>\n",
              "      <td>17.000000</td>\n",
              "    </tr>\n",
              "    <tr>\n",
              "      <th>25%</th>\n",
              "      <td>2.700000</td>\n",
              "      <td>30.000000</td>\n",
              "    </tr>\n",
              "    <tr>\n",
              "      <th>50%</th>\n",
              "      <td>4.800000</td>\n",
              "      <td>47.000000</td>\n",
              "    </tr>\n",
              "    <tr>\n",
              "      <th>75%</th>\n",
              "      <td>7.400000</td>\n",
              "      <td>75.000000</td>\n",
              "    </tr>\n",
              "    <tr>\n",
              "      <th>max</th>\n",
              "      <td>9.200000</td>\n",
              "      <td>95.000000</td>\n",
              "    </tr>\n",
              "  </tbody>\n",
              "</table>\n",
              "</div>"
            ],
            "text/plain": [
              "           Hours     Scores\n",
              "count  25.000000  25.000000\n",
              "mean    5.012000  51.480000\n",
              "std     2.525094  25.286887\n",
              "min     1.100000  17.000000\n",
              "25%     2.700000  30.000000\n",
              "50%     4.800000  47.000000\n",
              "75%     7.400000  75.000000\n",
              "max     9.200000  95.000000"
            ]
          },
          "metadata": {
            "tags": []
          },
          "execution_count": 4
        }
      ]
    },
    {
      "cell_type": "markdown",
      "metadata": {
        "id": "4wUcOorp24a3"
      },
      "source": [
        "Now, we will visualise the dataset to find the relationship between the two variables. we are using scatter plot for this task."
      ]
    },
    {
      "cell_type": "code",
      "metadata": {
        "colab": {
          "base_uri": "https://localhost:8080/",
          "height": 295
        },
        "id": "ggfi8AWM3I6n",
        "collapsed": true,
        "outputId": "6baeff94-ccbc-407f-aa6d-e332bb8062e5"
      },
      "source": [
        "data.plot(x=\"Hours\", y=\"Scores\", kind=\"scatter\")\n",
        "plt.title(\"Marks Scored vs Hours studied\")\n",
        "plt.xlabel('Hours Studied')  \n",
        "plt.ylabel('Marks Obtained(percentage)')  \n",
        "plt.show()"
      ],
      "execution_count": 5,
      "outputs": [
        {
          "output_type": "display_data",
          "data": {
            "image/png": "[encoded data removed]",
            "text/plain": [
              "<Figure size 432x288 with 1 Axes>"
            ]
          },
          "metadata": {
            "tags": [],
            "needs_background": "light"
          }
        }
      ]
    },
    {
      "cell_type": "markdown",
      "metadata": {
        "id": "3E7gwbGH5CUt"
      },
      "source": [
        "**It can be inferred from the above scatter plot that there is a positive relationship between the two variables. When Number of hours studied is increasing, marks scored is also increasing.**"
      ]
    },
    {
      "cell_type": "markdown",
      "metadata": {
        "id": "L9lOVEP25Qn9"
      },
      "source": [
        "Now , we will divide the data into labels(Y) and attributes(X).\n",
        "\n",
        "\n",
        "\n",
        "\n",
        "\n",
        "\n"
      ]
    },
    {
      "cell_type": "code",
      "metadata": {
        "id": "GsTUlooG69Og"
      },
      "source": [
        "X = data.iloc[:, :-1].values  \n",
        "y = data.iloc[:, 1].values  "
      ],
      "execution_count": 6,
      "outputs": []
    },
    {
      "cell_type": "markdown",
      "metadata": {
        "id": "M9vHnZGP7_-B"
      },
      "source": [
        "Now, we will split the obtained labels and attributes into training set and test set using scikit-Learn. We will use 70% data for training the algorithm and 30 % will be left for testing."
      ]
    },
    {
      "cell_type": "code",
      "metadata": {
        "id": "z6PFCqSL8Qjh"
      },
      "source": [
        "from sklearn.model_selection import train_test_split\n",
        "X_train,X_test, y_train,y_test= train_test_split(X, y, train_size=0.7, random_state=0 )\n"
      ],
      "execution_count": 7,
      "outputs": []
    },
    {
      "cell_type": "markdown",
      "metadata": {
        "id": "JP5YW2_09yl_"
      },
      "source": [
        "**Training using linear regression model**"
      ]
    },
    {
      "cell_type": "code",
      "metadata": {
        "colab": {
          "base_uri": "https://localhost:8080/"
        },
        "id": "dEHvlewJ92ys",
        "outputId": "5d8385ff-95ff-4856-896e-57996947f71a"
      },
      "source": [
        "from sklearn.linear_model import LinearRegression\n",
        "lr= LinearRegression()\n",
        "lr.fit(X_train, y_train)\n",
        "print(\"Trained\")\n"
      ],
      "execution_count": 8,
      "outputs": [
        {
          "output_type": "stream",
          "text": [
            "Trained\n"
          ],
          "name": "stdout"
        }
      ]
    },
    {
      "cell_type": "markdown",
      "metadata": {
        "id": "ZYlwh7v3T9Zb"
      },
      "source": [
        "**plotting the regression line**"
      ]
    },
    {
      "cell_type": "code",
      "metadata": {
        "colab": {
          "base_uri": "https://localhost:8080/",
          "height": 295
        },
        "id": "MgiAKKQ0_RWG",
        "outputId": "8727348d-0f37-42bf-9d36-93ae577a12bd"
      },
      "source": [
        "line= lr.coef_*X + lr.intercept_\n",
        "plt.scatter(X, y,)\n",
        "plt.plot(X,line,\"r\")\n",
        "plt.xlabel('Hours Studied')  \n",
        "plt.ylabel('Marks Obtained(percentage)')\n",
        "plt.title(\"Hours vs Scores\")\n",
        "plt.show()"
      ],
      "execution_count": 9,
      "outputs": [
        {
          "output_type": "display_data",
          "data": {
            "image/png": "[encoded data removed]",
            "text/plain": [
              "<Figure size 432x288 with 1 Axes>"
            ]
          },
          "metadata": {
            "tags": [],
            "needs_background": "light"
          }
        }
      ]
    },
    {
      "cell_type": "markdown",
      "metadata": {
        "id": "QtX-9-FzZo_d"
      },
      "source": [
        "In the above obtained graph, the straight line represents the predicted values and the dots represents true value."
      ]
    },
    {
      "cell_type": "markdown",
      "metadata": {
        "id": "3NKm__fHZ6jV"
      },
      "source": [
        "**PREDICTIONS**"
      ]
    },
    {
      "cell_type": "code",
      "metadata": {
        "colab": {
          "base_uri": "https://localhost:8080/"
        },
        "id": "SwwbnslcUMZq",
        "outputId": "c7b9ab8b-0e65-43d6-ae45-b1927b0a799d"
      },
      "source": [
        "print(\"Testing Data(Hours) \\n\",X_test)"
      ],
      "execution_count": 10,
      "outputs": [
        {
          "output_type": "stream",
          "text": [
            "Testing Data(Hours) \n",
            " [[1.5]\n",
            " [3.2]\n",
            " [7.4]\n",
            " [2.5]\n",
            " [5.9]\n",
            " [3.8]\n",
            " [1.9]\n",
            " [7.8]]\n"
          ],
          "name": "stdout"
        }
      ]
    },
    {
      "cell_type": "code",
      "metadata": {
        "colab": {
          "base_uri": "https://localhost:8080/"
        },
        "id": "YjxcU551Z2lv",
        "outputId": "b77fb29f-de01-438b-b4ac-807da786aa48"
      },
      "source": [
        "y_pred=lr.predict(X_test) #predicting values\n",
        "df=pd.DataFrame({\"Actual Scores\": y_test, \"Predicted Scores\":y_pred})\n",
        "print(df)\n"
      ],
      "execution_count": 11,
      "outputs": [
        {
          "output_type": "stream",
          "text": [
            "   Actual Scores  Predicted Scores\n",
            "0             20         17.053665\n",
            "1             27         33.694229\n",
            "2             69         74.806209\n",
            "3             30         26.842232\n",
            "4             62         60.123359\n",
            "5             35         39.567369\n",
            "6             24         20.969092\n",
            "7             86         78.721636\n"
          ],
          "name": "stdout"
        }
      ]
    },
    {
      "cell_type": "markdown",
      "metadata": {
        "id": "3KSjWQzzVrCn"
      },
      "source": [
        "**Predicting Score when hours=9.25**"
      ]
    },
    {
      "cell_type": "code",
      "metadata": {
        "colab": {
          "base_uri": "https://localhost:8080/"
        },
        "id": "40LbPxhKcEwF",
        "outputId": "b21d9cd2-ed26-4c18-a1b0-7554a1c0be15"
      },
      "source": [
        "#predicting marks when hours=9.25\n",
        "hr= 9.25\n",
        "y1= lr.predict([[hr]])\n",
        "print(\"No.of hours studied: \",hr)\n",
        "print(\"Predicted Score: \",y1[0])\n",
        "\n"
      ],
      "execution_count": 12,
      "outputs": [
        {
          "output_type": "stream",
          "text": [
            "No.of hours studied:  9.25\n",
            "Predicted Score:  92.91505723477056\n"
          ],
          "name": "stdout"
        }
      ]
    },
    {
      "cell_type": "markdown",
      "metadata": {
        "id": "eG59vS1Ndnoy"
      },
      "source": [
        "**Model Evaluation** - To check how well the model predicts the values"
      ]
    },
    {
      "cell_type": "code",
      "metadata": {
        "colab": {
          "base_uri": "https://localhost:8080/"
        },
        "id": "PUZmumjddv41",
        "outputId": "8ea1683c-6fdc-4267-8cde-5995ca0f669b"
      },
      "source": [
        "from sklearn import metrics  \n",
        "print('Mean Absolute Error:', metrics.mean_absolute_error(y_test, y_pred)) \n",
        "print('Mean Squared Error:',metrics.mean_squared_error(y_test, y_pred))\n",
        "print('Maximum Error: ',metrics.max_error(y_test, y_pred))\n",
        "print('Accuracy: ',lr.score(X_test, y_test)*100,\"%\")"
      ],
      "execution_count": 13,
      "outputs": [
        {
          "output_type": "stream",
          "text": [
            "Mean Absolute Error: 4.419727808027651\n",
            "Mean Squared Error: 22.965097212700428\n",
            "Maximum Error:  7.27836446101557\n",
            "Accuracy:  95.68211104435257 %\n"
          ],
          "name": "stdout"
        }
      ]
    },
    {
      "cell_type": "markdown",
      "metadata": {
        "id": "jxc5NdJYVYYj"
      },
      "source": [
        "**It can be inferred from above results that the model is approximately 95% accurate.**"
      ]
    }
  ]
}